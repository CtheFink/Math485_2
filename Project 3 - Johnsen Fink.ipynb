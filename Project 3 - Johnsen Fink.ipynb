{
 "cells": [
  {
   "cell_type": "markdown",
   "metadata": {},
   "source": [
    "Pre-Processing the Voice Data"
   ]
  },
  {
   "cell_type": "code",
   "execution_count": 1,
   "metadata": {},
   "outputs": [],
   "source": [
    "import pandas as pd\n",
    "import numpy as np\n",
    "import seaborn as sns\n",
    "from matplotlib import pyplot as plt\n",
    "\n",
    "from IPython.display import Audio\n",
    "import librosa\n",
    "\n",
    "from sklearn.model_selection import train_test_split, GridSearchCV, cross_val_score\n",
    "from sklearn import preprocessing\n",
    "from sklearn import tree\n",
    "from sklearn import svm\n",
    "from sklearn.tree import DecisionTreeClassifier\n",
    "from sklearn.naive_bayes import MultinomialNB\n",
    "from sklearn.neural_network import MLPClassifier\n",
    "from sklearn.ensemble import RandomForestClassifier\n",
    "from sklearn.linear_model import RidgeClassifier, LogisticRegression\n",
    "from sklearn.neighbors import KNeighborsClassifier\n",
    "\n",
    "\n",
    "from sklearn import metrics\n",
    "from sklearn.metrics import confusion_matrix\n",
    "from sklearn.metrics import ConfusionMatrixDisplay\n",
    "from sklearn.metrics import RocCurveDisplay\n",
    "from sklearn.metrics import roc_curve, auc\n",
    "from sklearn.metrics import accuracy_score, roc_auc_score\n",
    "from sklearn.metrics import classification_report\n",
    "\n",
    "from sklearn.decomposition import PCA\n",
    "data_dir = '/Users/christian fink/Math485/Math485_2/voice_clip_selected/'\n",
    "voice_clip_meta_data = pd.read_csv(data_dir+\"voice_clip_meta_data.csv\")\n",
    "voice_feature = pd.read_csv(data_dir+\"voice_feature_20241022.csv\")"
   ]
  },
  {
   "cell_type": "code",
   "execution_count": 2,
   "metadata": {},
   "outputs": [],
   "source": [
    "col_list_mfcc = ['mfcc_00', 'mfcc_01', 'mfcc_02', 'mfcc_03', 'mfcc_04', 'mfcc_05',\n",
    "       'mfcc_06', 'mfcc_07', 'mfcc_08', 'mfcc_09', 'mfcc_10', 'mfcc_11',\n",
    "       'mfcc_12', 'mfcc_13', 'mfcc_14', 'mfcc_15', 'mfcc_16', 'mfcc_17',\n",
    "       'mfcc_18', 'mfcc_19', 'mfcc_20', 'mfcc_21', 'mfcc_22', 'mfcc_23',\n",
    "       'mfcc_24']\n",
    "col_list_f0 = ['f0_mean', 'f0_std','f0_var','f0_min','f0_max','f0_skew', 'f0_kurtosis']\n",
    "col_list_zcr = ['zcr_mean','zcr_std','zcr_var','zcr_min','zcr_max','zcr_skew','zcr_kurtosis']"
   ]
  },
  {
   "cell_type": "code",
   "execution_count": 3,
   "metadata": {},
   "outputs": [],
   "source": [
    "age_name = ['teens', 'twenties','thirties', 'fourties', 'fifties', 'sixties', 'seventies', 'eighties','nineties']\n",
    "age_value = range(1,10)\n",
    "age_dict = dict(zip(age_name, age_value))\n",
    "gender_name = [\"male_masculine\",\"female_feminine\"]\n",
    "gender_value = [0,1]\n",
    "gender_dict = dict(zip(gender_name, gender_value))\n",
    "voice_feature['age'] = voice_feature['age'].map(age_dict)\n",
    "voice_feature['gender'] = voice_feature['gender'].map(gender_dict)\n",
    "voice_feature.dropna(inplace=True)\n",
    "X = voice_feature[col_list_f0 + col_list_mfcc + col_list_zcr]\n",
    "feature_names = col_list_f0 + col_list_mfcc+col_list_zcr\n",
    "scaler = preprocessing.MinMaxScaler().fit(X)\n",
    "X = scaler.transform(X)\n",
    "y = voice_feature.gender\n",
    "\n",
    "X_train, X_test, y_train, y_test = \\\n",
    "    train_test_split(X, y, test_size=0.33, random_state=7)"
   ]
  },
  {
   "cell_type": "code",
   "execution_count": 4,
   "metadata": {},
   "outputs": [],
   "source": [
    "def view_pred_result(model, X_test, y_test, thresh_min=0,thresh_max=0.5, thresh_inc=0.01):\n",
    "    y_pred = model.predict(X_test)\n",
    "    acc_pred = accuracy_score(y_test, y_pred)\n",
    "    roc_auc = roc_auc_score(y_test, model.predict_proba(X_test)[:, 1])\n",
    "    print('Accuracy: ' + str(acc_pred))\n",
    "    print('ROC Score: ' + str(roc_auc))\n",
    "\n",
    "    cfm_df = pd.DataFrame()\n",
    "    for i, thresh in enumerate(np.arange(thresh_min,thresh_max,thresh_inc)):\n",
    "        y_pred_thresh = np.array((model.predict_proba(X_test)[:, 1] > thresh).astype(int))\n",
    "        cfm = confusion_matrix(y_test,y_pred_thresh)\n",
    "        cfm_df.loc[i,\"Threshold\"]=thresh\n",
    "        cfm_df.loc[i,\"True Negative\"]=cfm[0,0]\n",
    "        cfm_df.loc[i,\"False Positive\"]=cfm[0,1]\n",
    "        cfm_df.loc[i,\"False Negative\"]=cfm[1,0]\n",
    "        cfm_df.loc[i,\"True Positive\"]=cfm[1,1]\n",
    "    cfm_df['FPR'] = cfm_df['False Positive']/(cfm_df['False Positive']+cfm_df['True Negative'])\n",
    "    cfm_df['TPR'] = cfm_df['True Positive']/(cfm_df['False Negative']+cfm_df['True Positive'])\n",
    "    #metrics.RocCurveDisplay.from_estimator(model, X_test, y_test)\n",
    "    print(metrics.classification_report(y_test,y_pred, digits = 4))\n",
    "    ConfusionMatrixDisplay.from_predictions(y_test, y_pred)\n",
    "    return cfm_df"
   ]
  },
  {
   "cell_type": "markdown",
   "metadata": {},
   "source": [
    "Sorting Voice Features by Accent Type"
   ]
  },
  {
   "cell_type": "code",
   "execution_count": 5,
   "metadata": {},
   "outputs": [
    {
     "data": {
      "text/plain": [
       "array(['United States English', 'United States English,Floridian',\n",
       "       'West Coast,United States English',\n",
       "       'Canadian English,United States English',\n",
       "       'United States English,England English',\n",
       "       'England English,United States English',\n",
       "       'Latin America,United States English',\n",
       "       'United States English,Pittsburgh PA',\n",
       "       'Singaporean English,United States English',\n",
       "       'United States English,Pacific North West United States',\n",
       "       'United States English,Canadian English,international',\n",
       "       'India and South Asia (India, Pakistan, Sri Lanka),United States English,England English',\n",
       "       'United States English,Australian English,England English,Irish English',\n",
       "       'United States English,midwest',\n",
       "       'United States English,North Indiana',\n",
       "       'United States English,Midwestern',\n",
       "       'United States English,British English',\n",
       "       'United States English,Irish English',\n",
       "       'United States English,Slight Dutch accent',\n",
       "       'United States English,Chicago ', 'United States English,Russian',\n",
       "       'serbian,United States English',\n",
       "       'United States English,American english with austrian accent',\n",
       "       'United States English,California English,Southern US English',\n",
       "       'United States English,Spoke Chinese when little,90% Pennsylvanian accent, 10% Chinese accent',\n",
       "       'United States English,New Yorker',\n",
       "       'United States English,Midwestern States (Michigan)',\n",
       "       'United States English,New York English',\n",
       "       'United States English,Upstate New York',\n",
       "       'United States English,Texas'], dtype=object)"
      ]
     },
     "execution_count": 5,
     "metadata": {},
     "output_type": "execute_result"
    }
   ],
   "source": [
    "voice_feature[voice_feature['accents'].str.contains(\"United States\")]['accents'].unique()"
   ]
  }
 ],
 "metadata": {
  "kernelspec": {
   "display_name": "voice",
   "language": "python",
   "name": "python3"
  },
  "language_info": {
   "codemirror_mode": {
    "name": "ipython",
    "version": 3
   },
   "file_extension": ".py",
   "mimetype": "text/x-python",
   "name": "python",
   "nbconvert_exporter": "python",
   "pygments_lexer": "ipython3",
   "version": "3.12.3"
  }
 },
 "nbformat": 4,
 "nbformat_minor": 2
}
